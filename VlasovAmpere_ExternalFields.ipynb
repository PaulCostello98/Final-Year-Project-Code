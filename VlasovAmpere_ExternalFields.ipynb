{
 "cells": [
  {
   "cell_type": "markdown",
   "metadata": {},
   "source": [
    "## 1D1V Vlasov–Ampere system"
   ]
  },
  {
   "cell_type": "code",
   "execution_count": 1,
   "metadata": {},
   "outputs": [
    {
     "name": "stdout",
     "output_type": "stream",
     "text": [
      "\u001b[32m\u001b[1m  Updating\u001b[22m\u001b[39m registry at `~/.julia/registries/General`\n",
      "\u001b[32m\u001b[1m  Updating\u001b[22m\u001b[39m git-repo `https://github.com/JuliaRegistries/General.git`\n",
      "\u001b[2K\u001b[?25h[1mFetching:\u001b[22m\u001b[39m [========================================>]  100.0 %.0 %39.1 %\u001b[36m\u001b[1mFetching:\u001b[22m\u001b[39m [==================>                      ]  44.3 %\u001b[36m\u001b[1mFetching:\u001b[22m\u001b[39m [============================>            ]  68.7 %"
     ]
    },
    {
     "data": {
      "text/plain": [
       "UniformMesh"
      ]
     },
     "execution_count": 1,
     "metadata": {},
     "output_type": "execute_result"
    }
   ],
   "source": [
    "\n",
    "using Pkg\n",
    "Pkg.instantiate()\n",
    "using ProgressMeter, FFTW, Plots, LinearAlgebra\n",
    "using BenchmarkTools, Statistics\n",
    "\n",
    "\"\"\"\n",
    "    UniformMesh(start, stop, length)\n",
    "\n",
    "1D uniform mesh data for periodic domain (end point is removed)\n",
    "\"\"\"\n",
    "struct UniformMesh\n",
    "\n",
    "   start    :: Float64\n",
    "   stop     :: Float64\n",
    "   length   :: Int64\n",
    "   step     :: Float64\n",
    "   points   :: Vector{Float64}\n",
    "\n",
    "   function UniformMesh(start, stop, length)\n",
    "\n",
    "       points = range(start, stop=stop, length=length+1)[1:end-1]\n",
    "       step = (stop - start) / length\n",
    "\n",
    "       new( start, stop, length, step, points)\n",
    "\n",
    "   end\n",
    "\n",
    "end"
   ]
  },
  {
   "cell_type": "markdown",
   "metadata": {},
   "source": [
    "## Compute charge density ρ(x)"
   ]
  },
  {
   "cell_type": "code",
   "execution_count": 2,
   "metadata": {},
   "outputs": [
    {
     "data": {
      "text/plain": [
       "compute_rho"
      ]
     },
     "execution_count": 2,
     "metadata": {},
     "output_type": "execute_result"
    }
   ],
   "source": [
    "\"\"\"\n",
    "    compute_rho( mesh, f)\n",
    "\n",
    "Compute charge density ρ(x,t) = ∫ f(x,v,t) dv\n",
    "\n",
    "returns ρ - ρ̄\n",
    "\n",
    "\"\"\"\n",
    "function compute_rho(meshv::UniformMesh, f)\n",
    "\n",
    "   dv  = meshv.step\n",
    "   ρ = dv .* vec(sum(real(f), dims=2))\n",
    "   ρ .- mean(ρ)\n",
    "\n",
    "end"
   ]
  },
  {
   "cell_type": "markdown",
   "metadata": {},
   "source": [
    "## Compute electric field from ρ(x)"
   ]
  },
  {
   "cell_type": "code",
   "execution_count": 3,
   "metadata": {},
   "outputs": [
    {
     "data": {
      "text/plain": [
       "compute_e"
      ]
     },
     "execution_count": 3,
     "metadata": {},
     "output_type": "execute_result"
    }
   ],
   "source": [
    "\"\"\"\n",
    "    compute_e(mesh, ρ)\n",
    "\n",
    "compute electric field from ρ\n",
    "\"\"\"\n",
    "function compute_e(mesh::UniformMesh, ρ)\n",
    "\n",
    "   n = mesh.length\n",
    "   k =  2π / (mesh.stop - mesh.start)\n",
    "   modes = [1.0; k .* vcat(1:n÷2-1,-n÷2:-1)...]\n",
    "   ρ̂ = fft(ρ)./modes\n",
    "   vec(real(ifft(-1im .* ρ̂)))\n",
    "\n",
    "end"
   ]
  },
  {
   "cell_type": "markdown",
   "metadata": {},
   "source": [
    "## Callable struct `Advection`"
   ]
  },
  {
   "cell_type": "code",
   "execution_count": 4,
   "metadata": {},
   "outputs": [
    {
     "data": {
      "text/plain": [
       "AmpereAdvection"
      ]
     },
     "execution_count": 4,
     "metadata": {},
     "output_type": "execute_result"
    }
   ],
   "source": [
    "\"\"\"\n",
    "    advection! = AmpereAdvection( mesh, kx)\n",
    "\n",
    "For every created struct, two methods are available\n",
    "- Advection method along v\n",
    "- Advection method along x and e computation\n",
    "\n",
    "\"\"\"\n",
    "struct AmpereAdvection\n",
    "\n",
    "    mesh :: UniformMesh\n",
    "    kx   :: Vector{Float64}\n",
    "\n",
    "    function AmpereAdvection( mesh )\n",
    "\n",
    "        nx  = mesh.length\n",
    "        dx  = mesh.step\n",
    "        Lx  = mesh.stop - mesh.start\n",
    "        kx  = zeros(Float64, nx)\n",
    "        kx .= 2π/Lx .* [0:nx÷2-1;-nx÷2:-1]\n",
    "        new( mesh, kx)\n",
    "\n",
    "    end\n",
    "\n",
    "end"
   ]
  },
  {
   "cell_type": "code",
   "execution_count": 5,
   "metadata": {},
   "outputs": [],
   "source": [
    "function (adv :: AmpereAdvection)( fᵗ  :: Array{ComplexF64,2},\n",
    "                                   e   :: Vector{ComplexF64},\n",
    "                                   dt  :: Float64 )\n",
    "    fft!(fᵗ, 1)\n",
    "    fᵗ .= fᵗ .* exp.(-1im * dt * adv.kx * transpose(e))\n",
    "    ifft!(fᵗ, 1)\n",
    "\n",
    "end"
   ]
  },
  {
   "cell_type": "code",
   "execution_count": 6,
   "metadata": {},
   "outputs": [],
   "source": [
    "function (adv :: AmpereAdvection)( f   :: Array{ComplexF64,2},\n",
    "                                   e   :: Vector{ComplexF64},\n",
    "                                   v   :: Vector{Float64},\n",
    "                                   dt  :: Float64,\n",
    "                                   E_ext :: Vector{ComplexF64})\n",
    "\n",
    "    \n",
    "    ev = exp.(-1im*dt * adv.kx * transpose(v))\n",
    "    fft!(f,1)\n",
    "    f .= f .* ev\n",
    "    dv = v[2]-v[1]\n",
    "    ρ = dv * vec(sum(f,dims=2))\n",
    "    for i in 2:length(e)\n",
    "        e[i] = -1im * ρ[i] / adv.kx[i]\n",
    "    end\n",
    "    e[1] = 0.0\n",
    "    ifft!(f, 1)\n",
    "    ifft!(e)\n",
    "    e .= real(e) + real(E_ext) #External Electric field superposed\n",
    "end"
   ]
  },
  {
   "cell_type": "markdown",
   "metadata": {},
   "source": [
    "## Initial distribution function"
   ]
  },
  {
   "cell_type": "code",
   "execution_count": 7,
   "metadata": {},
   "outputs": [],
   "source": [
    "\"\"\"\n",
    "    landau( ϵ, kx, x, v )\n",
    "\n",
    "Landau damping initialisation function\n",
    "\n",
    "[Wikipedia](http\n",
    "s://en.wikipedia.org/wiki/Landau_damping)\n",
    "\n",
    "\n",
    "\"\"\"\n",
    "function landau( ϵ, kx, x, v )\n",
    "   (1.0 .+ ϵ*cos.(kx*x))/sqrt(2π) .* transpose(exp.(-0.5*v.*v))\n",
    "end\n",
    "\n",
    "\n",
    "nx, nv = 512, 512\n",
    "xmin, xmax = -0.0*π, 4*π\n",
    "vmin, vmax = -6., 6.\n",
    "tf = 100\n",
    "nt = 500\n",
    "meshx = UniformMesh(xmin, xmax, nx)\n",
    "meshv = UniformMesh(vmin, vmax, nv);"
   ]
  },
  {
   "cell_type": "markdown",
   "metadata": {},
   "source": [
    "Initialize distribution function"
   ]
  },
  {
   "cell_type": "code",
   "execution_count": 8,
   "metadata": {
    "scrolled": true
   },
   "outputs": [
    {
     "data": {
      "text/plain": [
       "(0.001, 0.5)"
      ]
     },
     "execution_count": 8,
     "metadata": {},
     "output_type": "execute_result"
    }
   ],
   "source": [
    "x = meshx.points\n",
    "v = meshv.points\n",
    "ϵ, kx = 0.001, 0.5"
   ]
  },
  {
   "cell_type": "markdown",
   "metadata": {},
   "source": [
    "Allocate arrays for distribution function and its transposed"
   ]
  },
  {
   "cell_type": "code",
   "execution_count": 9,
   "metadata": {},
   "outputs": [],
   "source": [
    "f = zeros(Complex{Float64},(nx,nv))\n",
    "fᵀ= zeros(Complex{Float64},(nv,nx))\n",
    "f_0 = landau( ϵ, kx, x, v);\n",
    "f .= landau( ϵ, kx, x, v);"
   ]
  },
  {
   "cell_type": "markdown",
   "metadata": {},
   "source": [
    "Plot the distribution"
   ]
  },
  {
   "cell_type": "code",
   "execution_count": 10,
   "metadata": {
    "scrolled": true
   },
   "outputs": [],
   "source": [
    "heatmap(v, x ,real((f)), xlabel=:v, ylabel=:x,title=\"Intial Distribution f(x,v,t=0)\", label= \"Landau damping\")\n",
    "savefig(\"./test/initial_RF\")"
   ]
  },
  {
   "cell_type": "markdown",
   "metadata": {},
   "source": [
    "The external electric field can now be specified, in this case an electrostatic driving wave $E_{ext}(x,t) = E_0\\exp(i(kx-\\omega t))$"
   ]
  },
  {
   "cell_type": "code",
   "execution_count": 11,
   "metadata": {},
   "outputs": [
    {
     "data": {
      "text/plain": [
       "E_RF (generic function with 1 method)"
      ]
     },
     "execution_count": 11,
     "metadata": {},
     "output_type": "execute_result"
    }
   ],
   "source": [
    "function E_RF(E_0,w,x,dt,k_t,i)\n",
    "    E_0*exp.(1im*(k_t.*x.-w*i*dt)) \n",
    "end"
   ]
  },
  {
   "cell_type": "code",
   "execution_count": 12,
   "metadata": {
    "scrolled": false
   },
   "outputs": [
    {
     "name": "stderr",
     "output_type": "stream",
     "text": [
      "┌ Info: Saved animation to \n",
      "│   fn = /home/paul/Numkin2019/notebooks/tmp.gif\n",
      "└ @ Plots /home/paul/.julia/packages/Plots/qZHsp/src/animation.jl:98\n"
     ]
    },
    {
     "data": {
      "text/plain": [
       "0.0:0.20040080160320642:100.0"
      ]
     },
     "execution_count": 12,
     "metadata": {},
     "output_type": "execute_result"
    }
   ],
   "source": [
    "\n",
    "#Parameters for external field\n",
    "E_0 = 0.01\n",
    "L = x[end]-x[1]\n",
    "n = 1\n",
    "k_t = 2π/(L)\n",
    "w = 1\n",
    "\n",
    "\n",
    "dt = tf / nt\n",
    "\n",
    "#Value of External field at t = 0\n",
    "E_ext0 = E_RF(E_0,w,x,dt,k_t,0)\n",
    "\n",
    "transpose!(fᵀ,f)\n",
    "ρ  = compute_rho(meshv, f)\n",
    "e  = zeros(ComplexF64, nx)\n",
    "e .= compute_e(meshx, ρ) + E_ext0 #External field superposed with initial field\n",
    "\n",
    "mod_e = Float64[]\n",
    "\n",
    "EE = Float64[] #Electrical potential energy array\n",
    "EK = Float64[] #Kinetic energy of particles array\n",
    "ENTROPY = Float64[] #Gibbs entropy array\n",
    "mod_ext = Float64[] \n",
    "\n",
    "advection_x! = AmpereAdvection( meshx )\n",
    "advection_v! = AmpereAdvection( meshv );\n",
    "\n",
    "p = heatmap(x,v,real(f))\n",
    "\n",
    "@gif for i in 1:nt\n",
    "    \n",
    "    global E_ext = E_RF(E_0,w,x,dt,k_t,i)\n",
    "    \n",
    "    advection_v!(fᵀ, e, 0.5dt)\n",
    "\n",
    "    transpose!(f, fᵀ)\n",
    "\n",
    "    advection_x!( f, e, v, dt, E_ext)\n",
    "        \n",
    "    push!(mod_e, (sqrt(sum(e.^2)*meshx.step)))\n",
    "    \n",
    "    transpose!(fᵀ, f)\n",
    "\n",
    "    advection_v!(fᵀ, e, 0.5dt)\n",
    "    \n",
    "    push!(mod_ext, (sqrt(sum(real(E_ext).^2)*meshx.step)))\n",
    "    \n",
    "    push!(EE, real(sum((sqrt.(e.^2)).^2)*meshx.step))\n",
    "    \n",
    "    push!(EK, sum(real((sum((f.*(v.^2)*meshv.step))*meshx.step))))\n",
    "    \n",
    "    push!(ENTROPY, -sum(real(sum(f.*log.(abs.(f)))*meshx.step)*meshv.step))\n",
    "    \n",
    "    t_1 = i*dt\n",
    "    \n",
    "    fv = vec(sum(real((f)).*meshx.step,dims=1))\n",
    "    \n",
    "    #Can make an animation of the f(x,v,t) heatmap or the f(v,t) plot by uncommenting desired\n",
    "    #plot\n",
    "    \n",
    "    plot(v,fv, xlabel=\"v\", ylabel =\"f(v,t)\", title = \"Projection of f(x,v,t) on to Velocity Space at Time t = $t_1\",label = \"Velocity Distribution of Particles\")\n",
    "    \n",
    "    #heatmap(v, x, (real(f)), xlabel=\"v\",ylabel =\"x\", title = \"f(x,v,t) at Time t = $t_1\")\n",
    "    \n",
    "end\n",
    "\n",
    "t = range(0, stop=tf, length=nt)\n",
    "\n",
    "plot(t, mod_e,title = \"Electric Field E_1(x,t) + E_ext(x,t) vs Time\" ,label= \"Electric Field\",xlabel = \"Time\" ,legend=:bottomright,ylabel = \"Magnitude of E(t)\")\n",
    "savefig(\"./E_1.png\")\n",
    "\n",
    "plot(t,mod_e, title=\"E(x,t) and E_ext(x,t) vs time\", xlabel=:t, ylabel= \"Magnitude of Electric Field\", label = \" Magnitude of total field E(x,t)\")\n",
    "plot!(t,mod_ext, label = \"Magnitude of E_ext(x,t)\")\n",
    "savefig(\"./comparison.png\")\n",
    "\n",
    "plot(t,EE+EK,label = \"Electrostatic Potential Energy + Kinetic Energy of Particles\",title = \"Total Energy vs Time\", xlabel = \"Time\", ylabel = \"EE+EK\",legend=:bottomright)\n",
    "savefig(\"./Energy.png\")\n",
    "\n",
    "plot(t,ENTROPY, title =\"Entropy vs Time\",label = \"Gibbs Entropy of Particle Distribution\", xlabel = \"Time\",ylabel = \"Entropy\",legend=:bottomright)\n",
    "savefig(\"./Entropy.png\")"
   ]
  }
 ],
 "metadata": {
  "kernelspec": {
   "display_name": "Julia 1.0.5",
   "language": "julia",
   "name": "julia-1.0"
  },
  "language_info": {
   "file_extension": ".jl",
   "mimetype": "application/julia",
   "name": "julia",
   "version": "1.0.5"
  }
 },
 "nbformat": 4,
 "nbformat_minor": 3
}
